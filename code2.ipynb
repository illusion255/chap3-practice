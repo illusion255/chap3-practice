{
 "cells": [
  {
   "cell_type": "code",
   "execution_count": 16,
   "id": "fe1e0e16",
   "metadata": {},
   "outputs": [],
   "source": [
    "import pandas as pd\n",
    "import numpy as np\n",
    "import tensorflow as tf\n",
    "import matplotlib.pyplot as plt\n",
    "%matplotlib inline\n",
    "import seaborn as sns\n",
    "sns.set(style=\"darkgrid\")"
   ]
  },
  {
   "cell_type": "code",
   "execution_count": 17,
   "id": "e69d0cf0",
   "metadata": {},
   "outputs": [],
   "source": [
    "cols=['price','maint','doors','person','lug_capacity','safety','output']\n",
    "cars=pd.read_csv('desktop/chap2/data/car_evaluation.csv',names=cols,header=None)"
   ]
  }
 ],
 "metadata": {
  "kernelspec": {
   "display_name": " tf2_book",
   "language": "python",
   "name": "tf2_book"
  },
  "language_info": {
   "codemirror_mode": {
    "name": "ipython",
    "version": 3
   },
   "file_extension": ".py",
   "mimetype": "text/x-python",
   "name": "python",
   "nbconvert_exporter": "python",
   "pygments_lexer": "ipython3",
   "version": "3.7.10"
  }
 },
 "nbformat": 4,
 "nbformat_minor": 5
}
